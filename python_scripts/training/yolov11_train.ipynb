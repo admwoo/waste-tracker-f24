{
 "cells": [
  {
   "cell_type": "code",
   "execution_count": null,
   "metadata": {},
   "outputs": [],
   "source": [
    "!pip install ultralytics\n",
    "!pip install roboflow"
   ]
  },
  {
   "cell_type": "markdown",
   "metadata": {},
   "source": [
    "## Get Dataset"
   ]
  },
  {
   "cell_type": "code",
   "execution_count": 4,
   "metadata": {},
   "outputs": [
    {
     "name": "stdout",
     "output_type": "stream",
     "text": [
      "loading Roboflow workspace...\n",
      "loading Roboflow project...\n"
     ]
    },
    {
     "name": "stderr",
     "output_type": "stream",
     "text": [
      "Downloading Dataset Version Zip in TACO:-Trash-Annotations-in-Context-Dataset-15 to yolov11:: 100%|██████████| 326497/326497 [00:07<00:00, 43152.47it/s]"
     ]
    },
    {
     "name": "stdout",
     "output_type": "stream",
     "text": [
      "\n"
     ]
    },
    {
     "name": "stderr",
     "output_type": "stream",
     "text": [
      "\n",
      "Extracting Dataset Version Zip to TACO:-Trash-Annotations-in-Context-Dataset-15 in yolov11:: 100%|██████████| 7206/7206 [00:00<00:00, 9818.34it/s] \n"
     ]
    }
   ],
   "source": [
    "\n",
    "from roboflow import Roboflow\n",
    "rf = Roboflow(api_key=\"\")\n",
    "project = rf.workspace(\"mohamed-traore-2ekkp\").project(\"taco-trash-annotations-in-context\")\n",
    "version = project.version(15)\n",
    "dataset = version.download(\"yolov11\")\n",
    "                "
   ]
  },
  {
   "cell_type": "code",
   "execution_count": 5,
   "metadata": {},
   "outputs": [
    {
     "data": {
      "text/plain": [
       "'/Users/adamwood/Desktop/ecodata/trash-test/training/TACO:-Trash-Annotations-in-Context-Dataset-15'"
      ]
     },
     "execution_count": 5,
     "metadata": {},
     "output_type": "execute_result"
    }
   ],
   "source": [
    "dataset.location"
   ]
  },
  {
   "cell_type": "code",
   "execution_count": 6,
   "metadata": {},
   "outputs": [
    {
     "data": {
      "text/plain": [
       "'TACO:-Trash-Annotations-in-Context-Dataset-15/TACO:-Trash-Annotations-in-Context-Dataset-15/valid'"
      ]
     },
     "execution_count": 6,
     "metadata": {},
     "output_type": "execute_result"
    }
   ],
   "source": [
    "import shutil\n",
    "\n",
    "# ultralytics needs to move into a duplicate named folder idk why\n",
    "shutil.move(\"TACO:-Trash-Annotations-in-Context-Dataset-15/train\", \n",
    "            \"TACO:-Trash-Annotations-in-Context-Dataset-15/TACO:-Trash-Annotations-in-Context-Dataset-15/train\"\n",
    "            )\n",
    "shutil.move(\"TACO:-Trash-Annotations-in-Context-Dataset-15/test\", \n",
    "            \"TACO:-Trash-Annotations-in-Context-Dataset-15/TACO:-Trash-Annotations-in-Context-Dataset-15/test\"\n",
    "            )\n",
    "shutil.move(\"TACO:-Trash-Annotations-in-Context-Dataset-15/valid\", \n",
    "            \"TACO:-Trash-Annotations-in-Context-Dataset-15/TACO:-Trash-Annotations-in-Context-Dataset-15/valid\"\n",
    "            )"
   ]
  },
  {
   "cell_type": "markdown",
   "metadata": {},
   "source": [
    "## Training"
   ]
  },
  {
   "cell_type": "code",
   "execution_count": null,
   "metadata": {},
   "outputs": [],
   "source": [
    "# if training in google colab, modify the train, valid, and test image paths to exact path in data.yaml\n",
    "# reduce batch size in train command if gpu usage is too high\n",
    "\n",
    "!yolo task=detect mode=train model=yolov11n.pt data={dataset.location}/data.yaml epochs=100 imgsz=640"
   ]
  }
 ],
 "metadata": {
  "kernelspec": {
   "display_name": ".venv",
   "language": "python",
   "name": "python3"
  },
  "language_info": {
   "codemirror_mode": {
    "name": "ipython",
    "version": 3
   },
   "file_extension": ".py",
   "mimetype": "text/x-python",
   "name": "python",
   "nbconvert_exporter": "python",
   "pygments_lexer": "ipython3",
   "version": "3.11.9"
  }
 },
 "nbformat": 4,
 "nbformat_minor": 2
}
